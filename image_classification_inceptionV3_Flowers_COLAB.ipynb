{
  "nbformat": 4,
  "nbformat_minor": 0,
  "metadata": {
    "colab": {
      "name": "image_classification_inceptionV3_Flowers.ipynb",
      "version": "0.3.2",
      "provenance": [],
      "collapsed_sections": [
        "jTEzoMx6CasV"
      ]
    },
    "kernelspec": {
      "display_name": "Python 2",
      "name": "python2"
    },
    "accelerator": "GPU"
  },
  "cells": [
    {
      "metadata": {
        "id": "1xJZ5glPPCRz",
        "colab_type": "code",
        "colab": {}
      },
      "cell_type": "code",
      "source": [
        "import os\n",
        "from tensorflow.keras import layers\n",
        "from tensorflow.keras import Model"
      ],
      "execution_count": 0,
      "outputs": []
    },
    {
      "metadata": {
        "id": "NrDOT4BJGwu_",
        "colab_type": "code",
        "colab": {
          "base_uri": "https://localhost:8080/",
          "height": 51
        },
        "outputId": "4e4124e8-2f08-4107-b257-15aa39521fcd"
      },
      "cell_type": "code",
      "source": [
        "!wget --no-check-certificate https://transfer.sh/XnpD8/Flower.zip -O /tmp/Flower.zip"
      ],
      "execution_count": 8,
      "outputs": [
        {
          "output_type": "stream",
          "text": [
            "\n",
            "Redirecting output to ‘wget-log’.\n"
          ],
          "name": "stdout"
        }
      ]
    },
    {
      "metadata": {
        "id": "RdC_aqTnYCPe",
        "colab_type": "code",
        "colab": {
          "base_uri": "https://localhost:8080/",
          "height": 34
        },
        "outputId": "1efd2117-0f69-4852-ad07-9b082d6b6009"
      },
      "cell_type": "code",
      "source": [
        "os.path.getsize(\"/tmp/Flower.zip\")"
      ],
      "execution_count": 11,
      "outputs": [
        {
          "output_type": "execute_result",
          "data": {
            "text/plain": [
              "429184371"
            ]
          },
          "metadata": {
            "tags": []
          },
          "execution_count": 11
        }
      ]
    },
    {
      "metadata": {
        "id": "IzjKnd9yGz3N",
        "colab_type": "code",
        "colab": {
          "base_uri": "https://localhost:8080/",
          "height": 34
        },
        "outputId": "d9573e9c-1cee-482b-c67d-554ef17d43a6"
      },
      "cell_type": "code",
      "source": [
        "import os\n",
        "from google.colab import drive\n",
        "drive.mount('/content/drive')"
      ],
      "execution_count": 9,
      "outputs": [
        {
          "output_type": "stream",
          "text": [
            "Mounted at /content/drive\n"
          ],
          "name": "stdout"
        }
      ]
    },
    {
      "metadata": {
        "id": "V9cQyi09HLb3",
        "colab_type": "code",
        "colab": {}
      },
      "cell_type": "code",
      "source": [
        "import zipfile\n",
        "local_zip = '/tmp/Flower.zip'\n",
        "zip_ref = zipfile.ZipFile(local_zip, 'r')\n",
        "zip_ref.extractall('/tmp')\n",
        "zip_ref.close()\n",
        "os.listdir('/tmp')"
      ],
      "execution_count": 0,
      "outputs": []
    },
    {
      "metadata": {
        "id": "rmJhM56tHYZP",
        "colab_type": "code",
        "colab": {
          "base_uri": "https://localhost:8080/",
          "height": 34
        },
        "outputId": "7673a78f-2e08-4719-c45d-6bcd409e4020"
      },
      "cell_type": "code",
      "source": [
        "import shutil\n",
        "SOURCE = \"/tmp/Dataset\"\n",
        "BACKUP = \"/content/drive/My Drive/Colab Notebooks/Dataset1\"\n",
        "# create a backup directory\n",
        "shutil.copytree(SOURCE, BACKUP)\n",
        "print os.listdir(BACKUP)"
      ],
      "execution_count": 13,
      "outputs": [
        {
          "output_type": "stream",
          "text": [
            "['train', 'validation']\n"
          ],
          "name": "stdout"
        }
      ]
    },
    {
      "metadata": {
        "id": "9pkg_D-zG8Kz",
        "colab_type": "code",
        "colab": {}
      },
      "cell_type": "code",
      "source": [
        "os.listdir(\"/content/drive/My Drive/Colab Notebooks/Dataset/\")"
      ],
      "execution_count": 0,
      "outputs": []
    },
    {
      "metadata": {
        "id": "VaXLMtYiF0t9",
        "colab_type": "text"
      },
      "cell_type": "markdown",
      "source": [
        "Now let's download the weights:"
      ]
    },
    {
      "metadata": {
        "id": "KMrbllgAFipZ",
        "colab_type": "code",
        "colab": {
          "base_uri": "https://localhost:8080/",
          "height": 51
        },
        "outputId": "64ee45da-bba6-419e-c68e-343aee2da361"
      },
      "cell_type": "code",
      "source": [
        "!wget --no-check-certificate \\\n",
        "    https://storage.googleapis.com/mledu-datasets/inception_v3_weights_tf_dim_ordering_tf_kernels_notop.h5 \\\n",
        "    -O /tmp/inception_v3_weights_tf_dim_ordering_tf_kernels_notop.h5"
      ],
      "execution_count": 2,
      "outputs": [
        {
          "output_type": "stream",
          "text": [
            "\n",
            "Redirecting output to ‘wget-log’.\n"
          ],
          "name": "stdout"
        }
      ]
    },
    {
      "metadata": {
        "id": "UnRiGBfOF8rq",
        "colab_type": "code",
        "colab": {}
      },
      "cell_type": "code",
      "source": [
        "from tensorflow.keras.applications.inception_v3 import InceptionV3\n",
        "\n",
        "local_weights_file = '/tmp/inception_v3_weights_tf_dim_ordering_tf_kernels_notop.h5'\n",
        "pre_trained_model = InceptionV3(\n",
        "    input_shape=(150, 150, 3), include_top=False, weights=None)\n",
        "pre_trained_model.load_weights(local_weights_file)"
      ],
      "execution_count": 0,
      "outputs": []
    },
    {
      "metadata": {
        "id": "IcYZPBS3bTAj",
        "colab_type": "text"
      },
      "cell_type": "markdown",
      "source": [
        "By specifying the `include_top=False` argument, we load a network that doesn't include the classification layers at the top—ideal for feature extraction."
      ]
    },
    {
      "metadata": {
        "id": "CFxrqTuJee5m",
        "colab_type": "text"
      },
      "cell_type": "markdown",
      "source": [
        "Let's make the model non-trainable, since we will only use it for feature extraction; we won't update the weights of the pretrained model during training."
      ]
    },
    {
      "metadata": {
        "id": "a38rB3lyedcB",
        "colab_type": "code",
        "colab": {}
      },
      "cell_type": "code",
      "source": [
        "for layer in pre_trained_model.layers:\n",
        "  layer.trainable = False"
      ],
      "execution_count": 0,
      "outputs": []
    },
    {
      "metadata": {
        "id": "XGBGDiOAepnO",
        "colab_type": "text"
      },
      "cell_type": "markdown",
      "source": [
        "The layer we will use for feature extraction in Inception v3 is called `mixed7`. It is not the bottleneck of the network, but we are using it to keep a sufficiently large feature map (7x7 in this case). (Using the bottleneck layer would have resulting in a 3x3 feature map, which is a bit small.) Let's get the output from `mixed7`:"
      ]
    },
    {
      "metadata": {
        "id": "Cj4rXshqbQlS",
        "colab_type": "code",
        "colab": {
          "base_uri": "https://localhost:8080/",
          "height": 34
        },
        "outputId": "ad464260-aeed-4b43-da92-2c008ae836b3"
      },
      "cell_type": "code",
      "source": [
        "last_layer = pre_trained_model.get_layer('mixed7')\n",
        "print 'last layer output shape:', last_layer.output_shape\n",
        "last_output = last_layer.output"
      ],
      "execution_count": 5,
      "outputs": [
        {
          "output_type": "stream",
          "text": [
            "last layer output shape: (None, 7, 7, 768)\n"
          ],
          "name": "stdout"
        }
      ]
    },
    {
      "metadata": {
        "id": "XxHk6XQLeUWh",
        "colab_type": "text"
      },
      "cell_type": "markdown",
      "source": [
        "Now let's stick a fully connected classifier on top of `last_output`:"
      ]
    },
    {
      "metadata": {
        "id": "BMXb913pbvFg",
        "colab_type": "code",
        "colab": {}
      },
      "cell_type": "code",
      "source": [
        "from tensorflow.keras.optimizers import RMSprop\n",
        "\n",
        "# Flatten the output layer to 1 dimension\n",
        "x = layers.Flatten()(last_output)\n",
        "# Add a fully connected layer with 1,024 hidden units and ReLU activation\n",
        "x = layers.Dense(1024, activation='relu')(x)\n",
        "# Add a dropout rate of 0.2\n",
        "x = layers.Dropout(0.2)(x)\n",
        "# Add a final softmax layer for classification\n",
        "x = layers.Dense(3, activation='softmax')(x)\n",
        "\n",
        "# Configure and compile the model\n",
        "model = Model(pre_trained_model.input, x)\n",
        "model.compile(loss='categorical_crossentropy',\n",
        "              optimizer=RMSprop(lr=0.0001),\n",
        "              metrics=['acc'])"
      ],
      "execution_count": 0,
      "outputs": []
    },
    {
      "metadata": {
        "id": "_6ECjowwV5Ug",
        "colab_type": "text"
      },
      "cell_type": "markdown",
      "source": [
        "For examples and data preprocessing, let's use the same files and `train_generator` as we did in Exercise 2."
      ]
    },
    {
      "metadata": {
        "id": "Cl-IqOTjZVw_",
        "colab_type": "text"
      },
      "cell_type": "markdown",
      "source": [
        "Get our flowers dataset"
      ]
    },
    {
      "metadata": {
        "id": "y7KiK_JxUr7g",
        "colab_type": "code",
        "colab": {}
      },
      "cell_type": "code",
      "source": [
        "import zipfile\n",
        "\n",
        "from tensorflow.keras.preprocessing.image import ImageDataGenerator\n",
        "\n",
        "# local_zip = '/tmp/Flower.zip'\n",
        "# zip_ref = zipfile.ZipFile(local_zip, 'r')\n",
        "# zip_ref.extractall('/tmp')\n",
        "# zip_ref.close()\n",
        "\n",
        "# Define our example directories and files\n",
        "base_dir = '/content/drive/My Drive/Colab Notebooks/Dataset'\n",
        "train_dir = os.path.join(base_dir, 'train')\n",
        "validation_dir = os.path.join(base_dir, 'validation')\n"
      ],
      "execution_count": 0,
      "outputs": []
    },
    {
      "metadata": {
        "id": "D2cPSFQR8EJS",
        "colab_type": "code",
        "colab": {}
      },
      "cell_type": "code",
      "source": [
        "# Directory with our training red roses\n",
        "train_rose_dir = os.path.join(train_dir, 'HOA HONG DO')\n",
        "\n",
        "# Directory with our training Xuyen Chi Flowers\n",
        "train_xuyenchi_dir = os.path.join(train_dir, 'HOA XUYEN CHI')\n",
        "\n",
        "# Directory with our validation red roses pictures\n",
        "validation_rose_dir = os.path.join(validation_dir, 'HOA HONG DO')\n",
        "\n",
        "# Directory with our validation Xhuyen Chi Flowers pictures\n",
        "validation_xuyenchi_dir = os.path.join(validation_dir, 'HOA XUYEN CHI')\n"
      ],
      "execution_count": 0,
      "outputs": []
    },
    {
      "metadata": {
        "id": "fHL7ClYl8jnF",
        "colab_type": "code",
        "colab": {
          "base_uri": "https://localhost:8080/",
          "height": 71
        },
        "outputId": "39a904d2-c12c-4abd-99f8-ad16ad51a6c5"
      },
      "cell_type": "code",
      "source": [
        "train_rose_fnames = os.listdir(train_rose_dir)\n",
        "train_xuyenchi_fnames = os.listdir(train_xuyenchi_dir)\n",
        "print(train_rose_fnames)\n",
        "print(train_xuyenchi_fnames)"
      ],
      "execution_count": 12,
      "outputs": [
        {
          "output_type": "stream",
          "text": [
            "['Copy of IMG_0086.JPG', 'Copy of IMG_0092.JPG', 'Copy of IMG_0082.JPG', 'Copy of IMG_0088.JPG', 'Copy of IMG_0085.JPG', 'Copy of IMG_0091.JPG', 'Copy of IMG_0089.JPG', 'Copy of IMG_0090.JPG', 'Copy of IMG_0073.JPG', 'Copy of IMG_0075.JPG', 'Copy of IMG_0078.JPG', 'Copy of IMG_0081.JPG', 'Copy of IMG_0074.JPG', 'Copy of IMG_0072.JPG', 'Copy of IMG_0077.JPG', 'Copy of IMG_0076.JPG', 'Copy of IMG_0080.JPG', 'Copy of IMG_0079.JPG', 'Copy of IMG_0069.JPG', 'Copy of IMG_0070.JPG', 'Copy of IMG_0067.JPG', 'Copy of IMG_0066.JPG', 'Copy of IMG_0071.JPG', 'Copy of IMG_0068.JPG', 'Copy of IMG_0052.JPG', 'Copy of IMG_0059.JPG', 'Copy of IMG_0057.JPG', 'Copy of IMG_0054.JPG', 'Copy of IMG_0056.JPG', 'Copy of IMG_0061.JPG', 'Copy of IMG_0058.JPG', 'Copy of IMG_0053.JPG', 'Copy of IMG_0044.JPG', 'Copy of IMG_0049.JPG', 'Copy of IMG_0046.JPG', 'Copy of IMG_0043.JPG', 'Copy of IMG_0050.JPG', 'Copy of IMG_0042.JPG', 'Copy of IMG_0045.JPG', 'Copy of IMG_0048.JPG', 'Copy of IMG_0047.JPG', 'Copy of IMG_0051.JPG', 'IMG_0149.JPG', 'IMG_0148.JPG', 'IMG_0147.JPG', 'IMG_0146.JPG', 'IMG_0145.JPG', 'IMG_0144.JPG', 'IMG_0143.JPG', 'IMG_0141.JPG', 'IMG_0140.JPG', 'IMG_0139.JPG', 'IMG_0138.JPG', 'IMG_0137.JPG', 'IMG_0136.JPG', 'IMG_0135.JPG', 'IMG_0134.JPG', 'IMG_0131.JPG', 'IMG_0130.JPG', 'IMG_0129.JPG', 'IMG_0128.JPG', 'IMG_0124.JPG', 'IMG_0123.JPG', 'IMG_0122.JPG', 'IMG_0121.JPG', 'IMG_0120.JPG', 'IMG_0119.JPG', 'IMG_0118.JPG', 'IMG_0116.JPG', 'IMG_0115.JPG', 'IMG_0114.JPG', 'IMG_0113.JPG', 'IMG_0112.JPG', 'IMG_0111.JPG', 'IMG_0110.JPG', 'IMG_0109.JPG', 'IMG_0108.JPG', 'IMG_0107.JPG', 'IMG_0106.JPG', 'IMG_0105.JPG', 'IMG_0104.JPG', 'IMG_0103.JPG', 'IMG_0102.JPG', 'IMG_0101.JPG', 'IMG_0100.JPG', 'IMG_0099.JPG', 'IMG_0098.JPG', 'IMG_0097.JPG', 'IMG_0096.JPG', 'IMG_0095.JPG', 'IMG_0094.JPG', 'IMG_0093.JPG', 'IMG_0092.JPG', 'IMG_0091.JPG', 'IMG_0090.JPG', 'IMG_0089.JPG', 'IMG_0088.JPG', 'IMG_0086.JPG', 'IMG_0085.JPG', 'IMG_0084.JPG', 'IMG_0083.JPG', 'IMG_0082.JPG', 'IMG_0081.JPG', 'IMG_0080.JPG', 'IMG_0079.JPG', 'IMG_0078.JPG', 'IMG_0077.JPG', 'IMG_0076.JPG', 'IMG_0075.JPG', 'IMG_0074.JPG', 'IMG_0073.JPG', 'IMG_0072.JPG', 'IMG_0071.JPG', 'IMG_0070.JPG', 'IMG_0069.JPG', 'IMG_0068.JPG', 'IMG_0067.JPG', 'IMG_0066.JPG', 'IMG_0065.JPG', 'IMG_0064.JPG', 'IMG_0063.JPG', 'IMG_0062.JPG', 'IMG_0061.JPG', 'IMG_0060.JPG', 'IMG_0059.JPG', 'IMG_0058.JPG', 'IMG_0057.JPG', 'IMG_0056.JPG', 'IMG_0055.JPG', 'IMG_0054.JPG', 'IMG_0053.JPG', 'IMG_0052.JPG', 'IMG_0051.JPG', 'IMG_0050.JPG', 'IMG_0049.JPG', 'IMG_0048.JPG', 'IMG_0047.JPG', 'IMG_0046.JPG', 'IMG_0045.JPG', 'IMG_0044.JPG', 'IMG_0043.JPG', 'IMG_0042.JPG']\n",
            "['20180821_161748_030.jpg', '20180821_161748_029.jpg', '20180821_161748_026.jpg', '20180821_161748_025.jpg', '20180821_161748_024.jpg', '20180821_161748_023.jpg', '20180821_161748_022.jpg', '20180821_161748_021.jpg', '20180821_161748_020.jpg', '20180821_161748_019.jpg', '20180821_161748_014.jpg', '20180821_161748_013.jpg', '20180821_161748_012.jpg', '20180821_161748_011.jpg', '20180821_161748_010.jpg', '20180821_161748_009.jpg', '20180821_161748_008.jpg', '20180821_161748_007.jpg', '20180821_161748_006.jpg', '20180821_161748_005.jpg', '20180821_161748_004.jpg', '20180821_161748_003.jpg', '20180821_161748_002.jpg', '20180821_161748_001.jpg', '20180821_161729_030.jpg', '20180821_161729_029.jpg', '20180821_161729_025.jpg', '20180821_161729_023.jpg', '20180821_161729_022.jpg', '20180821_161729_021.jpg', '20180821_161729_020.jpg', '20180821_161729_019.jpg', '20180821_161729_018.jpg', '20180821_161729_017.jpg', '20180821_161729_016.jpg', '20180821_161729_015.jpg', '20180821_161729_014.jpg', '20180821_161729_013.jpg', '20180821_161729_012.jpg', '20180821_161729_011.jpg', '20180821_161729_010.jpg', '20180821_161729_009.jpg', '20180821_161729_008.jpg', '20180821_161729_007.jpg', '20180821_161729_006.jpg', '20180821_161729_005.jpg', '20180821_161729_004.jpg', '20180821_161729_003.jpg', '20180821_161729_002.jpg', '20180821_161729_001.jpg', '20180821_161700_009.jpg', '20180821_161700_008.jpg', '20180821_161700_007.jpg', '20180821_161700_006.jpg', '20180821_161700_005.jpg', '20180821_161700_004.jpg', '20180821_161700_003.jpg', '20180821_161700_002.jpg', '20180821_161700_001.jpg', '20180821_161512_030.jpg', '20180821_161512_029.jpg', '20180821_161512_028.jpg', '20180821_161512_027.jpg', '20180821_161512_026.jpg', '20180821_161512_025.jpg', '20180821_161512_024.jpg', '20180821_161512_023.jpg', '20180821_161512_022.jpg', '20180821_161512_021.jpg', '20180821_161512_020.jpg', '20180821_161512_019.jpg', '20180821_161512_018.jpg', '20180821_161512_017.jpg', '20180821_161512_016.jpg', '20180821_161512_015.jpg', '20180821_161512_014.jpg', '20180821_161512_013.jpg', '20180821_161512_012.jpg', '20180821_161512_011.jpg', '20180821_161512_010.jpg', '20180821_161512_009.jpg', '20180821_161512_008.jpg', '20180821_161512_007.jpg', '20180821_161512_006.jpg', '20180821_161512_005.jpg', '20180821_161512_004.jpg', '20180821_161512_003.jpg', '20180821_161512_002.jpg', '20180821_161512_001.jpg', '20180821_161358.jpg']\n"
          ],
          "name": "stdout"
        }
      ]
    },
    {
      "metadata": {
        "id": "Fl9XXARuV_eg",
        "colab_type": "code",
        "colab": {
          "base_uri": "https://localhost:8080/",
          "height": 51
        },
        "outputId": "dfedeefa-6d06-4406-ec3c-5635e4a0f2b4"
      },
      "cell_type": "code",
      "source": [
        "# Add our data-augmentation parameters to ImageDataGenerator\n",
        "train_datagen = ImageDataGenerator(\n",
        "    rescale=1./255,\n",
        "    rotation_range=40,\n",
        "    width_shift_range=0.2,\n",
        "    height_shift_range=0.2,\n",
        "    shear_range=0.2,\n",
        "    zoom_range=0.2,\n",
        "    horizontal_flip=True)\n",
        "\n",
        "# Note that the validation data should not be augmented!\n",
        "test_datagen = ImageDataGenerator(rescale=1./255)\n",
        "\n",
        "train_generator = train_datagen.flow_from_directory(\n",
        "        train_dir, # This is the source directory for training images\n",
        "        target_size=(150, 150),  # All images will be resized to 150x150\n",
        "        batch_size=20,\n",
        "        # Since we use binary_crossentropy loss, we need binary labels\n",
        "        # class_mode='binary'\n",
        "        class_mode = 'categorical'\n",
        "        )\n",
        "    \n",
        "\n",
        "# Flow validation images in batches of 20 using test_datagen generator\n",
        "validation_generator = test_datagen.flow_from_directory(\n",
        "        validation_dir,\n",
        "        target_size=(150, 150),\n",
        "        batch_size=5,\n",
        "        #class_mode='binary'\n",
        "        class_mode = 'categorical'\n",
        "        )"
      ],
      "execution_count": 13,
      "outputs": [
        {
          "output_type": "stream",
          "text": [
            "Found 272 images belonging to 3 classes.\n",
            "Found 30 images belonging to 3 classes.\n"
          ],
          "name": "stdout"
        }
      ]
    },
    {
      "metadata": {
        "id": "qEC1AL7iVRLz",
        "colab_type": "text"
      },
      "cell_type": "markdown",
      "source": [
        "Finally, let's train the model using the features we extracted. We'll train on all 272 images available, for 2 epochs, and validate on all 30 test images."
      ]
    },
    {
      "metadata": {
        "id": "Blhq2MAUeyGA",
        "colab_type": "code",
        "colab": {
          "base_uri": "https://localhost:8080/",
          "height": 85
        },
        "outputId": "8ee387f6-4e84-4b0e-a2d5-652ce5bb8e61"
      },
      "cell_type": "code",
      "source": [
        "history = model.fit_generator(\n",
        "      train_generator,\n",
        "      steps_per_epoch=100,\n",
        "      epochs=2,\n",
        "      validation_data=validation_generator,\n",
        "      validation_steps=50,\n",
        "      verbose=2)"
      ],
      "execution_count": 15,
      "outputs": [
        {
          "output_type": "stream",
          "text": [
            "Epoch 1/2\n",
            " - 382s - loss: 0.1074 - acc: 0.9620 - val_loss: 0.1906 - val_acc: 0.9040\n",
            "Epoch 2/2\n",
            " - 339s - loss: 0.0644 - acc: 0.9750 - val_loss: 0.7317 - val_acc: 0.7280\n"
          ],
          "name": "stdout"
        }
      ]
    },
    {
      "metadata": {
        "id": "lRjyAkE62aOG",
        "colab_type": "text"
      },
      "cell_type": "markdown",
      "source": [
        "You can see that we reach a validation accuracy of 88–90% very quickly. This is much better than the small model we trained from scratch."
      ]
    },
    {
      "metadata": {
        "id": "tt15y6IS2pBo",
        "colab_type": "text"
      },
      "cell_type": "markdown",
      "source": [
        "## Further Improving Accuracy with Fine-Tuning\n",
        "\n",
        "In our feature-extraction experiment, we only tried adding two classification layers on top of an Inception V3 layer. The weights of the pretrained network were not updated during training. One way to increase performance even further is to \"fine-tune\" the weights of the top layers of the pretrained model alongside the training of the top-level classifier. A couple of important notes on fine-tuning:\n",
        "\n",
        "- **Fine-tuning should only be attempted *after* you have trained the top-level classifier with the pretrained model set to non-trainable**. If you add a randomly initialized classifier on top of a pretrained model and attempt to train all layers jointly, the magnitude of the gradient updates will be too large (due to the random weights from the classifier), and your pretrained model will just forget everything it has learned.\n",
        "- Additionally, we **fine-tune only the *top layers* of the pre-trained model** rather than all layers of the pretrained model because, in a convnet, the higher up a layer is, the more specialized it is. The first few layers in a convnet learn very simple and generic features, which generalize to almost all types of images. But as you go higher up, the features are increasingly specific to the dataset that the model is trained on. The goal of fine-tuning is to adapt these specialized features to work with the new dataset.\n",
        "\n",
        "All we need to do to implement fine-tuning is to set the top layers of Inception V3 to be trainable, recompile the model (necessary for these changes to take effect), and resume training. Let's unfreeze all layers belonging to the `mixed7` module—i.e., all layers found after `mixed6`—and recompile the model:"
      ]
    },
    {
      "metadata": {
        "id": "_l_J4S0Z2rgg",
        "colab_type": "code",
        "colab": {}
      },
      "cell_type": "code",
      "source": [
        "from tensorflow.keras.optimizers import SGD\n",
        "\n",
        "unfreeze = False\n",
        "\n",
        "# Unfreeze all models after \"mixed6\"\n",
        "for layer in pre_trained_model.layers:\n",
        "  if unfreeze:\n",
        "    layer.trainable = True\n",
        "  if layer.name == 'mixed6':\n",
        "    unfreeze = True\n",
        "\n",
        "# As an optimizer, here we will use SGD \n",
        "# with a very low learning rate (0.00001)\n",
        "model.compile(loss='categorical_crossentropy',\n",
        "              optimizer=SGD(\n",
        "                  lr=0.00001, \n",
        "                  momentum=0.9),\n",
        "              metrics=['acc'])"
      ],
      "execution_count": 0,
      "outputs": []
    },
    {
      "metadata": {
        "id": "zE37ARlqY9da",
        "colab_type": "text"
      },
      "cell_type": "markdown",
      "source": [
        "Now let's retrain the model. We'll train on all 2000 images available, for 50 epochs, and validate on all 1,000 test images. (This may take 15-20 minutes to run.)"
      ]
    },
    {
      "metadata": {
        "id": "o_GgDGG4Y_hJ",
        "colab_type": "code",
        "colab": {
          "base_uri": "https://localhost:8080/",
          "height": 357
        },
        "outputId": "236926d6-7f25-4ffa-ba69-c2faa5725470"
      },
      "cell_type": "code",
      "source": [
        "history = model.fit_generator(\n",
        "      train_generator,\n",
        "      steps_per_epoch=100,\n",
        "      epochs=10,\n",
        "      validation_data=validation_generator,\n",
        "      validation_steps=50,\n",
        "      verbose=2)"
      ],
      "execution_count": 17,
      "outputs": [
        {
          "output_type": "stream",
          "text": [
            "Epoch 1/10\n",
            " - 379s - loss: 0.0323 - acc: 0.9873 - val_loss: 0.4806 - val_acc: 0.8400\n",
            "Epoch 2/10\n",
            " - 339s - loss: 0.0252 - acc: 0.9925 - val_loss: 0.4580 - val_acc: 0.8680\n",
            "Epoch 3/10\n",
            " - 338s - loss: 0.0296 - acc: 0.9865 - val_loss: 0.4128 - val_acc: 0.8960\n",
            "Epoch 4/10\n",
            " - 340s - loss: 0.0205 - acc: 0.9918 - val_loss: 0.4302 - val_acc: 0.9000\n",
            "Epoch 5/10\n",
            " - 341s - loss: 0.0176 - acc: 0.9952 - val_loss: 0.4159 - val_acc: 0.8960\n",
            "Epoch 6/10\n",
            " - 343s - loss: 0.0308 - acc: 0.9908 - val_loss: 0.3936 - val_acc: 0.8960\n",
            "Epoch 7/10\n",
            " - 369s - loss: 0.0304 - acc: 0.9875 - val_loss: 0.3989 - val_acc: 0.9000\n",
            "Epoch 8/10\n",
            " - 343s - loss: 0.0262 - acc: 0.9935 - val_loss: 0.4198 - val_acc: 0.8960\n",
            "Epoch 9/10\n",
            " - 340s - loss: 0.0317 - acc: 0.9905 - val_loss: 0.3841 - val_acc: 0.9040\n",
            "Epoch 10/10\n",
            " - 337s - loss: 0.0148 - acc: 0.9945 - val_loss: 0.3812 - val_acc: 0.9000\n"
          ],
          "name": "stdout"
        }
      ]
    },
    {
      "metadata": {
        "id": "3EPGn58ofwq5",
        "colab_type": "text"
      },
      "cell_type": "markdown",
      "source": [
        "We are seeing a nice improvement, with the validation loss going from ~1.7 down to ~1.2, and accuracy going from 88% to 92%. That's a 4.5% relative improvement in accuracy.\n",
        "\n",
        "Let's plot the training and validation loss and accuracy to show it conclusively:"
      ]
    },
    {
      "metadata": {
        "id": "1FtxcKjJfxL9",
        "colab_type": "code",
        "colab": {
          "base_uri": "https://localhost:8080/",
          "height": 560
        },
        "outputId": "57c232f6-46a8-4ef6-8563-a391223acc0e"
      },
      "cell_type": "code",
      "source": [
        "%matplotlib inline\n",
        "\n",
        "import matplotlib.pyplot as plt\n",
        "import matplotlib.image as mpimg\n",
        "\n",
        "# Retrieve a list of accuracy results on training and test data\n",
        "# sets for each training epoch\n",
        "acc = history.history['acc']\n",
        "val_acc = history.history['val_acc']\n",
        "\n",
        "# Retrieve a list of list results on training and test data\n",
        "# sets for each training epoch\n",
        "loss = history.history['loss']\n",
        "val_loss = history.history['val_loss']\n",
        "\n",
        "# Get number of epochs\n",
        "epochs = range(len(acc))\n",
        "\n",
        "# Plot training and validation accuracy per epoch\n",
        "plt.plot(epochs, acc)\n",
        "plt.plot(epochs, val_acc)\n",
        "plt.title('Training and validation accuracy')\n",
        "\n",
        "plt.figure()\n",
        "\n",
        "# Plot training and validation loss per epoch\n",
        "plt.plot(epochs, loss)\n",
        "plt.plot(epochs, val_loss)\n",
        "plt.title('Training and validation loss')"
      ],
      "execution_count": 18,
      "outputs": [
        {
          "output_type": "execute_result",
          "data": {
            "text/plain": [
              "Text(0.5,1,u'Training and validation loss')"
            ]
          },
          "metadata": {
            "tags": []
          },
          "execution_count": 18
        },
        {
          "output_type": "display_data",
          "data": {
            "image/png": "[encoded data removed]",
            "text/plain": [
              "<matplotlib.figure.Figure at 0x7f8efb68c590>"
            ]
          },
          "metadata": {
            "tags": []
          }
        },
        {
          "output_type": "display_data",
          "data": {
            "image/png": "[encoded data removed]",
            "text/plain": [
              "<matplotlib.figure.Figure at 0x7f8e9fac7690>"
            ]
          },
          "metadata": {
            "tags": []
          }
        }
      ]
    },
    {
      "metadata": {
        "id": "W0u5Z8smMXyI",
        "colab_type": "code",
        "colab": {}
      },
      "cell_type": "code",
      "source": [
        "model.save(\"./colab_model.h5\")\n"
      ],
      "execution_count": 0,
      "outputs": []
    },
    {
      "metadata": {
        "id": "bQ1Vj3PQWEsu",
        "colab_type": "code",
        "colab": {
          "base_uri": "https://localhost:8080/",
          "height": 34
        },
        "outputId": "9b867e73-6466-43aa-837a-163c38acffc5"
      },
      "cell_type": "code",
      "source": [
        "from PIL import Image\n",
        "import numpy as np\n",
        "\n",
        "list_of_labels = os.listdir(train_dir)\n",
        "list_of_labels = sorted(list_of_labels)\n",
        "\n",
        "# pick a file in HOA HONG DO\n",
        "rose_file_names = os.listdir(\"/content/drive/My Drive/Colab Notebooks/Dataset/validation/HOA HONG DO/\")\n",
        "\n",
        "img = Image.open(\"/content/drive/My Drive/Colab Notebooks/Dataset/validation/HOA HONG DO/\" + rose_file_names[4])\n",
        "img_resize = img.resize((150,150))\n",
        "np_image = np.array(img_resize)\n",
        "np_image = np_image.reshape(1,150,150,3) * 1./255\n",
        "\n",
        "id_predict = np.argmax(model.predict(np_image))\n",
        "prediction = list_of_labels[id_predict]\n",
        "print(\"Computer thinks this is a: {}\".format(prediction))"
      ],
      "execution_count": 42,
      "outputs": [
        {
          "output_type": "stream",
          "text": [
            "Computer thinks this is a: HOA HONG DO\n"
          ],
          "name": "stdout"
        }
      ]
    },
    {
      "metadata": {
        "id": "qoOPr57Fp2h2",
        "colab_type": "code",
        "colab": {
          "base_uri": "https://localhost:8080/",
          "height": 167
        },
        "outputId": "0fb4438c-fb40-4ea7-a217-dfa3f4879b37"
      },
      "cell_type": "code",
      "source": [
        "img_resize"
      ],
      "execution_count": 32,
      "outputs": [
        {
          "output_type": "execute_result",
          "data": {
            "image/png": "[encoded data removed]",
            "text/plain": [
              "<PIL.Image.Image image mode=RGB size=150x150 at 0x7F8E9F8C8410>"
            ]
          },
          "metadata": {
            "tags": []
          },
          "execution_count": 32
        }
      ]
    },
    {
      "metadata": {
        "id": "HZDvjLOmWWhV",
        "colab_type": "code",
        "colab": {}
      },
      "cell_type": "code",
      "source": [
        "# Make this more efficient. Let's rename the file to the name of prediction\n",
        "for label in list_of_labels:\n",
        "    folder_path = validation_dir + \"/\" + label\n",
        "    list_of_files = os.listdir(folder_path)\n",
        "    for index, file in enumerate(list_of_files):\n",
        "        file_path = folder_path + \"/\" + file\n",
        "        img = Image.open(file_path)\n",
        "        img_resize = img.resize((150,150))\n",
        "        np_image = np.array(img_resize)\n",
        "        np_image = np_image.reshape(1,150,150,3) * 1./255\n",
        "        id_predict = np.argmax(model.predict(np_image))\n",
        "        confidence = int(round(np.max(model.predict(np_image)) * 100))\n",
        "        prediction = list_of_labels[id_predict]\n",
        "        os.rename(file_path,folder_path + \"/\" + str(index) + \"_\" + prediction + \"_\" + str(confidence) + \".JPG\")"
      ],
      "execution_count": 0,
      "outputs": []
    },
    {
      "metadata": {
        "id": "lAxZxJmrvHUx",
        "colab_type": "code",
        "colab": {}
      },
      "cell_type": "code",
      "source": [
        "# Make this more efficient. Let's rename the file to the name of prediction\n",
        "for label in list_of_labels:\n",
        "    folder_path = train_dir + \"/\" + label\n",
        "    list_of_files = os.listdir(folder_path)\n",
        "    for index, file in enumerate(list_of_files):\n",
        "        file_path = folder_path + \"/\" + file\n",
        "        img = Image.open(file_path)\n",
        "        img_resize = img.resize((150,150))\n",
        "        np_image = np.array(img_resize)\n",
        "        np_image = np_image.reshape(1,150,150,3) * 1./255\n",
        "        id_predict = np.argmax(model.predict(np_image))\n",
        "        confidence = int(round(np.max(model.predict(np_image)) * 100))\n",
        "        prediction = list_of_labels[id_predict]\n",
        "        os.rename(file_path,folder_path + \"/\" + str(index) + \"_\" + prediction + \"_\" + str(confidence) + \".JPG\")"
      ],
      "execution_count": 0,
      "outputs": []
    },
    {
      "metadata": {
        "id": "X-fUIeizakjE",
        "colab_type": "text"
      },
      "cell_type": "markdown",
      "source": [
        "Congratulations! Using feature extraction and fine-tuning, you've built an image classification model that can identify cats vs. dogs in images with over 90% accuracy."
      ]
    },
    {
      "metadata": {
        "id": "M_3mOuEKMpP8",
        "colab_type": "code",
        "colab": {
          "base_uri": "https://localhost:8080/",
          "height": 538
        },
        "outputId": "5e02e5ac-09b2-4e9d-8a1e-b911cb86c912"
      },
      "cell_type": "code",
      "source": [
        "# from google.colab import files\n",
        "# files.download(\"./colab_model.h5\")"
      ],
      "execution_count": 22,
      "outputs": [
        {
          "output_type": "error",
          "ename": "KeyboardInterrupt",
          "evalue": "ignored",
          "traceback": [
            "\u001b[0;31m\u001b[0m",
            "\u001b[0;31mKeyboardInterrupt\u001b[0mTraceback (most recent call last)",
            "\u001b[0;32m<ipython-input-22-f62ae941efd5>\u001b[0m in \u001b[0;36m<module>\u001b[0;34m()\u001b[0m\n\u001b[1;32m      1\u001b[0m \u001b[0;32mfrom\u001b[0m \u001b[0mgoogle\u001b[0m\u001b[0;34m.\u001b[0m\u001b[0mcolab\u001b[0m \u001b[0;32mimport\u001b[0m \u001b[0mfiles\u001b[0m\u001b[0;34m\u001b[0m\u001b[0m\n\u001b[1;32m      2\u001b[0m \u001b[0;34m\u001b[0m\u001b[0m\n\u001b[0;32m----> 3\u001b[0;31m \u001b[0mfiles\u001b[0m\u001b[0;34m.\u001b[0m\u001b[0mdownload\u001b[0m\u001b[0;34m(\u001b[0m\u001b[0;34m\"./colab_model.h5\"\u001b[0m\u001b[0;34m)\u001b[0m\u001b[0;34m\u001b[0m\u001b[0m\n\u001b[0m",
            "\u001b[0;32m/usr/local/lib/python2.7/dist-packages/google/colab/files.pyc\u001b[0m in \u001b[0;36mdownload\u001b[0;34m(filename)\u001b[0m\n\u001b[1;32m    174\u001b[0m       \u001b[0;34m'port'\u001b[0m\u001b[0;34m:\u001b[0m \u001b[0mport\u001b[0m\u001b[0;34m,\u001b[0m\u001b[0;34m\u001b[0m\u001b[0m\n\u001b[1;32m    175\u001b[0m       \u001b[0;34m'path'\u001b[0m\u001b[0;34m:\u001b[0m \u001b[0mos\u001b[0m\u001b[0;34m.\u001b[0m\u001b[0mpath\u001b[0m\u001b[0;34m.\u001b[0m\u001b[0mabspath\u001b[0m\u001b[0;34m(\u001b[0m\u001b[0mfilename\u001b[0m\u001b[0;34m)\u001b[0m\u001b[0;34m,\u001b[0m\u001b[0;34m\u001b[0m\u001b[0m\n\u001b[0;32m--> 176\u001b[0;31m       \u001b[0;34m'name'\u001b[0m\u001b[0;34m:\u001b[0m \u001b[0mos\u001b[0m\u001b[0;34m.\u001b[0m\u001b[0mpath\u001b[0m\u001b[0;34m.\u001b[0m\u001b[0mbasename\u001b[0m\u001b[0;34m(\u001b[0m\u001b[0mfilename\u001b[0m\u001b[0;34m)\u001b[0m\u001b[0;34m,\u001b[0m\u001b[0;34m\u001b[0m\u001b[0m\n\u001b[0m\u001b[1;32m    177\u001b[0m   })\n",
            "\u001b[0;32m/usr/local/lib/python2.7/dist-packages/google/colab/output/_js.pyc\u001b[0m in \u001b[0;36meval_js\u001b[0;34m(script, ignore_result)\u001b[0m\n\u001b[1;32m     37\u001b[0m   \u001b[0;32mif\u001b[0m \u001b[0mignore_result\u001b[0m\u001b[0;34m:\u001b[0m\u001b[0;34m\u001b[0m\u001b[0m\n\u001b[1;32m     38\u001b[0m     \u001b[0;32mreturn\u001b[0m\u001b[0;34m\u001b[0m\u001b[0m\n\u001b[0;32m---> 39\u001b[0;31m   \u001b[0;32mreturn\u001b[0m \u001b[0m_message\u001b[0m\u001b[0;34m.\u001b[0m\u001b[0mread_reply_from_input\u001b[0m\u001b[0;34m(\u001b[0m\u001b[0mrequest_id\u001b[0m\u001b[0;34m)\u001b[0m\u001b[0;34m\u001b[0m\u001b[0m\n\u001b[0m\u001b[1;32m     40\u001b[0m \u001b[0;34m\u001b[0m\u001b[0m\n\u001b[1;32m     41\u001b[0m \u001b[0;34m\u001b[0m\u001b[0m\n",
            "\u001b[0;32m/usr/local/lib/python2.7/dist-packages/google/colab/_message.pyc\u001b[0m in \u001b[0;36mread_reply_from_input\u001b[0;34m(message_id, timeout_sec)\u001b[0m\n\u001b[1;32m     99\u001b[0m     \u001b[0mreply\u001b[0m \u001b[0;34m=\u001b[0m \u001b[0m_read_next_input_message\u001b[0m\u001b[0;34m(\u001b[0m\u001b[0;34m)\u001b[0m\u001b[0;34m\u001b[0m\u001b[0m\n\u001b[1;32m    100\u001b[0m     \u001b[0;32mif\u001b[0m \u001b[0mreply\u001b[0m \u001b[0;34m==\u001b[0m \u001b[0m_NOT_READY\u001b[0m \u001b[0;32mor\u001b[0m \u001b[0;32mnot\u001b[0m \u001b[0misinstance\u001b[0m\u001b[0;34m(\u001b[0m\u001b[0mreply\u001b[0m\u001b[0;34m,\u001b[0m \u001b[0mdict\u001b[0m\u001b[0;34m)\u001b[0m\u001b[0;34m:\u001b[0m\u001b[0;34m\u001b[0m\u001b[0m\n\u001b[0;32m--> 101\u001b[0;31m       \u001b[0mtime\u001b[0m\u001b[0;34m.\u001b[0m\u001b[0msleep\u001b[0m\u001b[0;34m(\u001b[0m\u001b[0;36m0.025\u001b[0m\u001b[0;34m)\u001b[0m\u001b[0;34m\u001b[0m\u001b[0m\n\u001b[0m\u001b[1;32m    102\u001b[0m       \u001b[0;32mcontinue\u001b[0m\u001b[0;34m\u001b[0m\u001b[0m\n\u001b[1;32m    103\u001b[0m     if (reply.get('type') == 'colab_reply' and\n",
            "\u001b[0;31mKeyboardInterrupt\u001b[0m: "
          ]
        }
      ]
    },
    {
      "metadata": {
        "id": "UdLi8eenC-TY",
        "colab_type": "code",
        "colab": {}
      },
      "cell_type": "code",
      "source": [
        "list_of_labels = os.listdir(train_dir)\n",
        "list_of_labels = sorted(list_of_labels)\n",
        "# Reset images' names\n",
        "for label in list_of_labels:\n",
        "    folder_path = validation_dir + \"/\" + label\n",
        "    list_of_files = os.listdir(folder_path)\n",
        "    for index, file in enumerate(list_of_files):\n",
        "        file_path = folder_path + \"/\" + file\n",
        "        os.rename(file_path,folder_path + \"/Image_\" + str(index) + \".JPG\")\n",
        "          \n",
        "# Reset images' names\n",
        "for label in list_of_labels:\n",
        "    folder_path = train_dir + \"/\" + label\n",
        "    list_of_files = os.listdir(folder_path)\n",
        "    for index, file in enumerate(list_of_files):\n",
        "        file_path = folder_path + \"/\" + file\n",
        "        os.rename(file_path,folder_path + \"/Image_\" + str(index) + \".JPG\")"
      ],
      "execution_count": 0,
      "outputs": []
    },
    {
      "metadata": {
        "id": "4oe41FfuDlqZ",
        "colab_type": "code",
        "colab": {}
      },
      "cell_type": "code",
      "source": [
        ""
      ],
      "execution_count": 0,
      "outputs": []
    }
  ]
}