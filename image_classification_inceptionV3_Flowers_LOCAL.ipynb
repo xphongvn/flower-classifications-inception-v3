{
 "cells": [
  {
   "cell_type": "markdown",
   "metadata": {
    "colab_type": "text",
    "id": "jTEzoMx6CasV"
   },
   "source": [
    "#### Copyright 2018 Google LLC."
   ]
  },
  {
   "cell_type": "code",
   "execution_count": null,
   "metadata": {
    "colab": {},
    "colab_type": "code",
    "id": "IhmPj1VVCfWb"
   },
   "outputs": [],
   "source": [
    "# Licensed under the Apache License, Version 2.0 (the \"License\");\n",
    "# you may not use this file except in compliance with the License.\n",
    "# You may obtain a copy of the License at\n",
    "#\n",
    "# https://www.apache.org/licenses/LICENSE-2.0\n",
    "#\n",
    "# Unless required by applicable law or agreed to in writing, software\n",
    "# distributed under the License is distributed on an \"AS IS\" BASIS,\n",
    "# WITHOUT WARRANTIES OR CONDITIONS OF ANY KIND, either express or implied.\n",
    "# See the License for the specific language governing permissions and\n",
    "# limitations under the License."
   ]
  },
  {
   "cell_type": "markdown",
   "metadata": {
    "colab_type": "text",
    "id": "YHK6DyunSbs4"
   },
   "source": [
    "# Flowers Image Classification\n",
    "## Exercise 3: Feature Extraction and Fine-Tuning\n",
    "**_Estimated completion time: 30 minutes_**\n",
    "\n",
    "In Exercise 1, we built a convnet from scratch, and were able to achieve an accuracy of about 70%. With the addition of data augmentation and dropout in Exercise 2, we were able to increase accuracy to about 80%. That seems decent, but 20% is still too high of an error rate. Maybe we just don't have enough training data available to properly solve the problem. What other approaches can we try?\n",
    "\n",
    "In this exercise, we'll look at two techniques for repurposing feature data generated from image models that have already been trained on large sets of data, **feature extraction** and **fine tuning**, and use them to improve the accuracy of our cat vs. dog classification model."
   ]
  },
  {
   "cell_type": "markdown",
   "metadata": {
    "colab_type": "text",
    "id": "dI5rmt4UBwXs"
   },
   "source": [
    "## Feature Extraction Using a Pretrained Model\n",
    "\n",
    "One thing that is commonly done in computer vision is to take a model trained on a very large dataset, run it on your own, smaller dataset, and extract the intermediate representations (features) that the model generates. These representations are frequently informative for your own computer vision task, even though the task may be quite different from the problem that the original model was trained on. This versatility and repurposability of convnets is one of the most interesting aspects of deep learning.\n",
    "\n",
    "In our case, we will use the [Inception V3 model](https://arxiv.org/abs/1512.00567) developed at Google, and pre-trained on [ImageNet](http://image-net.org/), a large dataset of web images (1.4M images and 1000 classes). This is a powerful model; let's see what the features that it has learned can do for our cat vs. dog problem.\n",
    "\n",
    "First, we need to pick which intermediate layer of Inception V3 we will use for feature extraction. A common practice is to use the output of the very last layer before the `Flatten` operation, the so-called \"bottleneck layer.\" The reasoning here is that the following fully connected layers will be too specialized for the task the network was trained on, and thus the features learned by these layers won't be very useful for a new task. The bottleneck features, however, retain much generality.\n",
    "\n",
    "Let's instantiate an Inception V3 model preloaded with weights trained on ImageNet:\n"
   ]
  },
  {
   "cell_type": "code",
   "execution_count": null,
   "metadata": {},
   "outputs": [],
   "source": [
    "!pip2 install tensorflow keras pillow"
   ]
  },
  {
   "cell_type": "code",
   "execution_count": 1,
   "metadata": {
    "colab": {},
    "colab_type": "code",
    "id": "1xJZ5glPPCRz"
   },
   "outputs": [],
   "source": [
    "import os\n",
    "\n",
    "from tensorflow.keras import layers\n",
    "from tensorflow.keras import Model\n",
    "import numpy as np"
   ]
  },
  {
   "cell_type": "markdown",
   "metadata": {
    "colab_type": "text",
    "id": "VaXLMtYiF0t9"
   },
   "source": [
    "Now let's download the weights:"
   ]
  },
  {
   "cell_type": "code",
   "execution_count": null,
   "metadata": {
    "colab": {
     "base_uri": "https://localhost:8080/",
     "height": 51
    },
    "colab_type": "code",
    "id": "KMrbllgAFipZ",
    "outputId": "876160e8-06f6-4951-d13c-3ae8a6070c62"
   },
   "outputs": [],
   "source": [
    "#!wget --no-check-certificate \\\n",
    "#    https://storage.googleapis.com/mledu-datasets/inception_v3_weights_tf_dim_ordering_tf_kernels_notop.h5 \\\n",
    "#    -O ./"
   ]
  },
  {
   "cell_type": "code",
   "execution_count": 2,
   "metadata": {
    "colab": {},
    "colab_type": "code",
    "id": "UnRiGBfOF8rq"
   },
   "outputs": [],
   "source": [
    "from tensorflow.keras.applications.inception_v3 import InceptionV3\n",
    "\n",
    "local_weights_file = './inception_v3_weights_tf_dim_ordering_tf_kernels_notop.h5'\n",
    "pre_trained_model = InceptionV3(\n",
    "    input_shape=(150, 150, 3), include_top=False, weights=None)\n",
    "pre_trained_model.load_weights(local_weights_file)"
   ]
  },
  {
   "cell_type": "markdown",
   "metadata": {
    "colab_type": "text",
    "id": "IcYZPBS3bTAj"
   },
   "source": [
    "By specifying the `include_top=False` argument, we load a network that doesn't include the classification layers at the top—ideal for feature extraction."
   ]
  },
  {
   "cell_type": "markdown",
   "metadata": {
    "colab_type": "text",
    "id": "CFxrqTuJee5m"
   },
   "source": [
    "Let's make the model non-trainable, since we will only use it for feature extraction; we won't update the weights of the pretrained model during training."
   ]
  },
  {
   "cell_type": "code",
   "execution_count": 3,
   "metadata": {
    "colab": {},
    "colab_type": "code",
    "id": "a38rB3lyedcB"
   },
   "outputs": [],
   "source": [
    "for layer in pre_trained_model.layers:\n",
    "  layer.trainable = False"
   ]
  },
  {
   "cell_type": "markdown",
   "metadata": {
    "colab_type": "text",
    "id": "XGBGDiOAepnO"
   },
   "source": [
    "The layer we will use for feature extraction in Inception v3 is called `mixed7`. It is not the bottleneck of the network, but we are using it to keep a sufficiently large feature map (7x7 in this case). (Using the bottleneck layer would have resulting in a 3x3 feature map, which is a bit small.) Let's get the output from `mixed7`:"
   ]
  },
  {
   "cell_type": "code",
   "execution_count": 4,
   "metadata": {
    "colab": {
     "base_uri": "https://localhost:8080/",
     "height": 34
    },
    "colab_type": "code",
    "id": "Cj4rXshqbQlS",
    "outputId": "c8a51779-f548-442d-b512-c4e140c8d3c6"
   },
   "outputs": [
    {
     "name": "stdout",
     "output_type": "stream",
     "text": [
      "('last layer output shape:', (None, 7, 7, 768))\n"
     ]
    }
   ],
   "source": [
    "last_layer = pre_trained_model.get_layer('mixed7')\n",
    "print('last layer output shape:', last_layer.output_shape)\n",
    "last_output = last_layer.output"
   ]
  },
  {
   "cell_type": "markdown",
   "metadata": {
    "colab_type": "text",
    "id": "XxHk6XQLeUWh"
   },
   "source": [
    "Now let's stick a fully connected classifier on top of `last_output`:"
   ]
  },
  {
   "cell_type": "code",
   "execution_count": 5,
   "metadata": {
    "colab": {},
    "colab_type": "code",
    "id": "BMXb913pbvFg"
   },
   "outputs": [],
   "source": [
    "from tensorflow.keras.optimizers import RMSprop\n",
    "\n",
    "# Flatten the output layer to 1 dimension\n",
    "x = layers.Flatten()(last_output)\n",
    "# Add a fully connected layer with 1,024 hidden units and ReLU activation\n",
    "x = layers.Dense(1024, activation='relu')(x)\n",
    "# Add a dropout rate of 0.2\n",
    "x = layers.Dropout(0.2)(x)\n",
    "# Add a final sigmoid layer for classification\n",
    "x = layers.Dense(3, activation='softmax')(x)\n",
    "\n",
    "# Configure and compile the model\n",
    "model = Model(pre_trained_model.input, x)\n",
    "model.compile(loss='categorical_crossentropy',\n",
    "              optimizer=RMSprop(lr=0.0001),\n",
    "              metrics=['acc'])"
   ]
  },
  {
   "cell_type": "markdown",
   "metadata": {
    "colab_type": "text",
    "id": "_6ECjowwV5Ug"
   },
   "source": [
    "For examples and data preprocessing, let's use the same files and `train_generator` as we did in Exercise 2."
   ]
  },
  {
   "cell_type": "markdown",
   "metadata": {
    "colab_type": "text",
    "id": "Cl-IqOTjZVw_"
   },
   "source": [
    "Get our flowers dataset"
   ]
  },
  {
   "cell_type": "code",
   "execution_count": null,
   "metadata": {
    "colab": {},
    "colab_type": "code",
    "id": "7OHkzdvWUeTK"
   },
   "outputs": [],
   "source": [
    "#!wget --no-check-certificate https://transfer.sh/XnpD8/Flower.zip /tmp/flower.zip"
   ]
  },
  {
   "cell_type": "code",
   "execution_count": 6,
   "metadata": {
    "colab": {
     "base_uri": "https://localhost:8080/",
     "height": 85
    },
    "colab_type": "code",
    "id": "iQtD_jZWVMN3",
    "outputId": "7ca19eed-c98a-498b-e782-932c23ace9d7"
   },
   "outputs": [
    {
     "data": {
      "text/plain": [
       "['.DS_Store',\n",
       " '.ipynb_checkpoints',\n",
       " 'Dataset',\n",
       " 'Flower.zip',\n",
       " 'image_classification_inceptionV3_Flowers.ipynb',\n",
       " 'inception_v3_weights_tf_dim_ordering_tf_kernels_notop.h5',\n",
       " 'model_colab.h5',\n",
       " 'model_simple.h5',\n",
       " 'model_tuned.h5']"
      ]
     },
     "execution_count": 6,
     "metadata": {},
     "output_type": "execute_result"
    }
   ],
   "source": [
    "import os\n",
    "#os.listdir(\"/tmp/\")\n",
    "os.listdir(\"./\")\n",
    "#os.rename(\"Flower.zip).zip\",\"/tmp/Flower.zip\")"
   ]
  },
  {
   "cell_type": "code",
   "execution_count": 7,
   "metadata": {
    "colab": {
     "base_uri": "https://localhost:8080/",
     "height": 34
    },
    "colab_type": "code",
    "id": "RdC_aqTnYCPe",
    "outputId": "4ba9c97d-89e1-4fdf-eade-383b534221c4"
   },
   "outputs": [
    {
     "data": {
      "text/plain": [
       "429184371"
      ]
     },
     "execution_count": 7,
     "metadata": {},
     "output_type": "execute_result"
    }
   ],
   "source": [
    "os.path.getsize(\"./Flower.zip\")"
   ]
  },
  {
   "cell_type": "code",
   "execution_count": 8,
   "metadata": {
    "colab": {},
    "colab_type": "code",
    "id": "y7KiK_JxUr7g"
   },
   "outputs": [],
   "source": [
    "import zipfile\n",
    "\n",
    "from tensorflow.keras.preprocessing.image import ImageDataGenerator\n",
    "\n",
    "# local_zip = './Flower.zip'\n",
    "# zip_ref = zipfile.ZipFile(local_zip, 'r')\n",
    "# zip_ref.extractall('./')\n",
    "# zip_ref.close()\n",
    "\n",
    "# Define our example directories and files\n",
    "base_dir = 'Dataset'\n",
    "train_dir = os.path.join(base_dir, 'train')\n",
    "validation_dir = os.path.join(base_dir, 'validation')\n"
   ]
  },
  {
   "cell_type": "code",
   "execution_count": 9,
   "metadata": {
    "colab": {
     "base_uri": "https://localhost:8080/",
     "height": 85
    },
    "colab_type": "code",
    "id": "lSmuqPYL06-p",
    "outputId": "82514ba7-490f-4e91-a96c-bc4c3fde9a60"
   },
   "outputs": [
    {
     "data": {
      "text/plain": [
       "['.DS_Store',\n",
       " '.ipynb_checkpoints',\n",
       " 'Dataset',\n",
       " 'Flower.zip',\n",
       " 'image_classification_inceptionV3_Flowers.ipynb',\n",
       " 'inception_v3_weights_tf_dim_ordering_tf_kernels_notop.h5',\n",
       " 'model_colab.h5',\n",
       " 'model_simple.h5',\n",
       " 'model_tuned.h5']"
      ]
     },
     "execution_count": 9,
     "metadata": {},
     "output_type": "execute_result"
    }
   ],
   "source": [
    "os.listdir(\".\")"
   ]
  },
  {
   "cell_type": "code",
   "execution_count": 10,
   "metadata": {
    "colab": {},
    "colab_type": "code",
    "id": "D2cPSFQR8EJS"
   },
   "outputs": [],
   "source": [
    "# Directory with our training red roses\n",
    "train_rose_dir = os.path.join(train_dir, 'HOA HONG DO')\n",
    "\n",
    "# Directory with our training Xuyen Chi Flowers\n",
    "train_xuyenchi_dir = os.path.join(train_dir, 'HOA XUYEN CHI')\n",
    "\n",
    "# Directory with our validation red roses pictures\n",
    "validation_rose_dir = os.path.join(validation_dir, 'HOA HONG DO')\n",
    "\n",
    "# Directory with our validation Xhuyen Chi Flowers pictures\n",
    "validation_xuyenchi_dir = os.path.join(validation_dir, 'HOA XUYEN CHI')\n"
   ]
  },
  {
   "cell_type": "code",
   "execution_count": 11,
   "metadata": {
    "colab": {
     "base_uri": "https://localhost:8080/",
     "height": 71
    },
    "colab_type": "code",
    "id": "fHL7ClYl8jnF",
    "outputId": "7997d642-82df-4fa4-9321-6e62772957d8"
   },
   "outputs": [
    {
     "name": "stdout",
     "output_type": "stream",
     "text": [
      "['HOA HONG DO_0.JPG', 'HOA HONG DO_1.JPG', 'HOA HONG DO_2.JPG', 'HOA HONG DO_3.JPG', 'HOA HONG DO_4.JPG', 'HOA HONG DO_5.JPG', 'HOA HONG DO_6.JPG', 'HOA HONG DO_7.JPG', 'HOA HONG DO_8.JPG', 'HOA HONG DO_9.JPG']\n",
      "['HOA XUYEN CHI_0.JPG', 'HOA XUYEN CHI_1.JPG', 'HOA XUYEN CHI_2.JPG', 'HOA XUYEN CHI_3.JPG', 'HOA XUYEN CHI_4.JPG', 'HOA XUYEN CHI_5.JPG', 'HOA XUYEN CHI_6.JPG', 'HOA XUYEN CHI_7.JPG', 'HOA XUYEN CHI_8.JPG', 'HOA XUYEN CHI_9.JPG']\n"
     ]
    }
   ],
   "source": [
    "train_rose_fnames = os.listdir(validation_rose_dir)\n",
    "train_xuyenchi_fnames = os.listdir(validation_xuyenchi_dir)\n",
    "print(train_rose_fnames)\n",
    "print(train_xuyenchi_fnames)"
   ]
  },
  {
   "cell_type": "code",
   "execution_count": 12,
   "metadata": {
    "colab": {
     "base_uri": "https://localhost:8080/",
     "height": 51
    },
    "colab_type": "code",
    "id": "Fl9XXARuV_eg",
    "outputId": "e72f5161-8c7a-415b-8cf6-13530a8fc7e3"
   },
   "outputs": [
    {
     "name": "stdout",
     "output_type": "stream",
     "text": [
      "Found 272 images belonging to 3 classes.\n",
      "Found 30 images belonging to 3 classes.\n"
     ]
    }
   ],
   "source": [
    "# Add our data-augmentation parameters to ImageDataGenerator\n",
    "train_datagen = ImageDataGenerator(\n",
    "    rescale=1./255,\n",
    "    rotation_range=40,\n",
    "    width_shift_range=0.2,\n",
    "    height_shift_range=0.2,\n",
    "    shear_range=0.2,\n",
    "    zoom_range=0.2,\n",
    "    horizontal_flip=True)\n",
    "\n",
    "# Note that the validation data should not be augmented!\n",
    "test_datagen = ImageDataGenerator(rescale=1./255)\n",
    "\n",
    "train_generator = train_datagen.flow_from_directory(\n",
    "        train_dir, # This is the source directory for training images\n",
    "        target_size=(150, 150),  # All images will be resized to 150x150\n",
    "        batch_size=20,\n",
    "        # Since we use binary_crossentropy loss, we need binary labels\n",
    "        # class_mode='binary'\n",
    "        class_mode = 'categorical'\n",
    "        )\n",
    "    \n",
    "\n",
    "# Flow validation images in batches of 20 using test_datagen generator\n",
    "validation_generator = test_datagen.flow_from_directory(\n",
    "        validation_dir,\n",
    "        target_size=(150, 150),\n",
    "        batch_size=5,\n",
    "        #class_mode='binary'\n",
    "        class_mode = 'categorical'\n",
    "        )"
   ]
  },
  {
   "cell_type": "markdown",
   "metadata": {
    "colab_type": "text",
    "id": "qEC1AL7iVRLz"
   },
   "source": [
    "Finally, let's train the model using the features we extracted. We'll train on all 272 images available, for 2 epochs, and validate on all 30 test images."
   ]
  },
  {
   "cell_type": "code",
   "execution_count": 13,
   "metadata": {
    "colab": {
     "base_uri": "https://localhost:8080/",
     "height": 153
    },
    "colab_type": "code",
    "id": "Blhq2MAUeyGA",
    "outputId": "ff32dc6f-5df1-4071-807b-c35b99507948"
   },
   "outputs": [
    {
     "name": "stdout",
     "output_type": "stream",
     "text": [
      "Epoch 1/1\n",
      " - 883s - loss: 0.2746 - acc: 0.8985 - val_loss: 0.3641 - val_acc: 0.8280\n"
     ]
    }
   ],
   "source": [
    "history = model.fit_generator(\n",
    "      train_generator,\n",
    "      steps_per_epoch=100,\n",
    "      epochs=1,\n",
    "      validation_data=validation_generator,\n",
    "      validation_steps=50,\n",
    "      verbose=2)"
   ]
  },
  {
   "cell_type": "markdown",
   "metadata": {
    "colab_type": "text",
    "id": "lRjyAkE62aOG"
   },
   "source": [
    "You can see that we reach a validation accuracy of 88–90% very quickly. This is much better than the small model we trained from scratch."
   ]
  },
  {
   "cell_type": "markdown",
   "metadata": {
    "colab_type": "text",
    "id": "tt15y6IS2pBo"
   },
   "source": [
    "## Further Improving Accuracy with Fine-Tuning\n",
    "\n",
    "In our feature-extraction experiment, we only tried adding two classification layers on top of an Inception V3 layer. The weights of the pretrained network were not updated during training. One way to increase performance even further is to \"fine-tune\" the weights of the top layers of the pretrained model alongside the training of the top-level classifier. A couple of important notes on fine-tuning:\n",
    "\n",
    "- **Fine-tuning should only be attempted *after* you have trained the top-level classifier with the pretrained model set to non-trainable**. If you add a randomly initialized classifier on top of a pretrained model and attempt to train all layers jointly, the magnitude of the gradient updates will be too large (due to the random weights from the classifier), and your pretrained model will just forget everything it has learned.\n",
    "- Additionally, we **fine-tune only the *top layers* of the pre-trained model** rather than all layers of the pretrained model because, in a convnet, the higher up a layer is, the more specialized it is. The first few layers in a convnet learn very simple and generic features, which generalize to almost all types of images. But as you go higher up, the features are increasingly specific to the dataset that the model is trained on. The goal of fine-tuning is to adapt these specialized features to work with the new dataset.\n",
    "\n",
    "All we need to do to implement fine-tuning is to set the top layers of Inception V3 to be trainable, recompile the model (necessary for these changes to take effect), and resume training. Let's unfreeze all layers belonging to the `mixed7` module—i.e., all layers found after `mixed6`—and recompile the model:"
   ]
  },
  {
   "cell_type": "code",
   "execution_count": 14,
   "metadata": {
    "colab": {},
    "colab_type": "code",
    "id": "_l_J4S0Z2rgg"
   },
   "outputs": [],
   "source": [
    "#model.save(\"simple_model.h5\")\n",
    "from tensorflow.keras.optimizers import SGD\n",
    "\n",
    "unfreeze = False\n",
    "\n",
    "# Unfreeze all models after \"mixed6\"\n",
    "for layer in pre_trained_model.layers:\n",
    "  if unfreeze:\n",
    "    layer.trainable = True\n",
    "  if layer.name == 'mixed6':\n",
    "    unfreeze = True\n",
    "\n",
    "# As an optimizer, here we will use SGD \n",
    "# with a very low learning rate (0.00001)\n",
    "model.compile(loss='categorical_crossentropy',\n",
    "              optimizer=SGD(\n",
    "                  lr=0.00001, \n",
    "                  momentum=0.9),\n",
    "              metrics=['acc'])"
   ]
  },
  {
   "cell_type": "markdown",
   "metadata": {
    "colab_type": "text",
    "id": "zE37ARlqY9da"
   },
   "source": [
    "Now let's retrain the model. We'll train on all 2000 images available, for 50 epochs, and validate on all 1,000 test images. (This may take 15-20 minutes to run.)"
   ]
  },
  {
   "cell_type": "code",
   "execution_count": 16,
   "metadata": {
    "colab": {
     "base_uri": "https://localhost:8080/",
     "height": 1717
    },
    "colab_type": "code",
    "id": "o_GgDGG4Y_hJ",
    "outputId": "873e59ae-668d-4ad6-feee-5c9bc6823045"
   },
   "outputs": [
    {
     "name": "stdout",
     "output_type": "stream",
     "text": [
      "Epoch 1/10\n",
      " - 801s - loss: 0.0578 - acc: 0.9807 - val_loss: 0.3594 - val_acc: 0.8400\n",
      "Epoch 2/10\n",
      " - 788s - loss: 0.0538 - acc: 0.9827 - val_loss: 0.3268 - val_acc: 0.8600\n",
      "Epoch 3/10\n",
      " - 784s - loss: 0.0532 - acc: 0.9812 - val_loss: 0.3568 - val_acc: 0.8400\n",
      "Epoch 4/10\n",
      " - 780s - loss: 0.0541 - acc: 0.9847 - val_loss: 0.2642 - val_acc: 0.8800\n",
      "Epoch 5/10\n",
      " - 785s - loss: 0.0480 - acc: 0.9865 - val_loss: 0.3407 - val_acc: 0.8600\n",
      "Epoch 6/10\n",
      " - 785s - loss: 0.0519 - acc: 0.9820 - val_loss: 0.2829 - val_acc: 0.8600\n",
      "Epoch 7/10\n",
      " - 798s - loss: 0.0544 - acc: 0.9823 - val_loss: 0.3585 - val_acc: 0.8400\n",
      "Epoch 8/10\n",
      " - 789s - loss: 0.0470 - acc: 0.9842 - val_loss: 0.2941 - val_acc: 0.8600\n",
      "Epoch 9/10\n",
      " - 788s - loss: 0.0457 - acc: 0.9852 - val_loss: 0.3233 - val_acc: 0.8800\n",
      "Epoch 10/10\n",
      " - 775s - loss: 0.0481 - acc: 0.9832 - val_loss: 0.2932 - val_acc: 0.9000\n"
     ]
    }
   ],
   "source": [
    "history = model.fit_generator(\n",
    "      train_generator,\n",
    "      steps_per_epoch=100,\n",
    "      epochs=10,\n",
    "      validation_data=validation_generator,\n",
    "      validation_steps=10,\n",
    "      verbose=2)"
   ]
  },
  {
   "cell_type": "markdown",
   "metadata": {
    "colab_type": "text",
    "id": "3EPGn58ofwq5"
   },
   "source": [
    "We are seeing a nice improvement, with the validation loss going from ~1.7 down to ~1.2, and accuracy going from 88% to 92%. That's a 4.5% relative improvement in accuracy.\n",
    "\n",
    "Let's plot the training and validation loss and accuracy to show it conclusively:"
   ]
  },
  {
   "cell_type": "code",
   "execution_count": 17,
   "metadata": {
    "colab": {
     "base_uri": "https://localhost:8080/",
     "height": 560
    },
    "colab_type": "code",
    "id": "1FtxcKjJfxL9",
    "outputId": "aff4042e-66cc-43f8-8d23-d594970a23f7"
   },
   "outputs": [
    {
     "data": {
      "text/plain": [
       "Text(0.5,1,u'Training and validation loss')"
      ]
     },
     "execution_count": 17,
     "metadata": {},
     "output_type": "execute_result"
    },
    {
     "data": {
      "image/png": "[encoded data removed]",
      "text/plain": [
       "<matplotlib.figure.Figure at 0x11ed35f50>"
      ]
     },
     "metadata": {
      "needs_background": "light"
     },
     "output_type": "display_data"
    },
    {
     "data": {
      "image/png": "[encoded data removed]",
      "text/plain": [
       "<matplotlib.figure.Figure at 0x121f26310>"
      ]
     },
     "metadata": {
      "needs_background": "light"
     },
     "output_type": "display_data"
    }
   ],
   "source": [
    "%matplotlib inline\n",
    "\n",
    "import matplotlib.pyplot as plt\n",
    "import matplotlib.image as mpimg\n",
    "\n",
    "# Retrieve a list of accuracy results on training and test data\n",
    "# sets for each training epoch\n",
    "acc = history.history['acc']\n",
    "val_acc = history.history['val_acc']\n",
    "\n",
    "# Retrieve a list of list results on training and test data\n",
    "# sets for each training epoch\n",
    "loss = history.history['loss']\n",
    "val_loss = history.history['val_loss']\n",
    "\n",
    "# Get number of epochs\n",
    "epochs = range(len(acc))\n",
    "\n",
    "# Plot training and validation accuracy per epoch\n",
    "plt.plot(epochs, acc)\n",
    "plt.plot(epochs, val_acc)\n",
    "plt.title('Training and validation accuracy')\n",
    "\n",
    "plt.figure()\n",
    "\n",
    "# Plot training and validation loss per epoch\n",
    "plt.plot(epochs, loss)\n",
    "plt.plot(epochs, val_loss)\n",
    "plt.title('Training and validation loss')"
   ]
  },
  {
   "cell_type": "markdown",
   "metadata": {
    "colab_type": "text",
    "id": "X-fUIeizakjE"
   },
   "source": [
    "Congratulations! Using feature extraction and fine-tuning, you've built an image classification model that can identify cats vs. dogs in images with over 90% accuracy."
   ]
  },
  {
   "cell_type": "markdown",
   "metadata": {
    "colab_type": "text",
    "id": "x_ANwJCnx7w-"
   },
   "source": [
    "## Clean Up\n",
    "\n",
    "Run the following cell to terminate the kernel and free memory resources:"
   ]
  },
  {
   "cell_type": "code",
   "execution_count": 24,
   "metadata": {},
   "outputs": [],
   "source": [
    "model.save(\"model_tuned.h5\")"
   ]
  },
  {
   "cell_type": "code",
   "execution_count": 18,
   "metadata": {},
   "outputs": [
    {
     "data": {
      "text/plain": [
       "<tensorflow.python.keras.engine.training.Model at 0x1241cf990>"
      ]
     },
     "execution_count": 18,
     "metadata": {},
     "output_type": "execute_result"
    }
   ],
   "source": [
    "model"
   ]
  },
  {
   "cell_type": "code",
   "execution_count": 19,
   "metadata": {},
   "outputs": [
    {
     "data": {
      "text/plain": [
       "['HOA DAM BUT', 'HOA HONG DO', 'HOA XUYEN CHI']"
      ]
     },
     "execution_count": 19,
     "metadata": {},
     "output_type": "execute_result"
    }
   ],
   "source": [
    "list_of_labels = os.listdir(\"./Dataset/train\")\n",
    "list_of_labels"
   ]
  },
  {
   "cell_type": "code",
   "execution_count": 20,
   "metadata": {},
   "outputs": [
    {
     "name": "stdout",
     "output_type": "stream",
     "text": [
      "Computer thinks this is a: HOA HONG DO\n"
     ]
    }
   ],
   "source": [
    "from PIL import Image\n",
    "\n",
    "# pick a file in HOA HONG DO\n",
    "rose_file_names = os.listdir(\"./Dataset/validation/HOA HONG DO/\")\n",
    "\n",
    "img = Image.open(\"./Dataset/validation/HOA HONG DO/\" + rose_file_names[0])\n",
    "img_resize = img.resize((150,150))\n",
    "np_image = np.array(img_resize)\n",
    "np_image = np_image.reshape(1,150,150,3) * 1./255\n",
    "\n",
    "id_predict = np.argmax(model.predict(np_image))\n",
    "prediction = list_of_labels[id_predict]\n",
    "print(\"Computer thinks this is a: {}\".format(prediction))"
   ]
  },
  {
   "cell_type": "code",
   "execution_count": 21,
   "metadata": {},
   "outputs": [
    {
     "data": {
      "image/png": "[encoded data removed]",
      "text/plain": [
       "<PIL.Image.Image image mode=RGB size=150x150 at 0x12A801790>"
      ]
     },
     "execution_count": 21,
     "metadata": {},
     "output_type": "execute_result"
    }
   ],
   "source": [
    "img_resize"
   ]
  },
  {
   "cell_type": "code",
   "execution_count": 22,
   "metadata": {},
   "outputs": [],
   "source": [
    "# Make this more efficient. Let's rename the file to the name of prediction\n",
    "for label in list_of_labels:\n",
    "    folder_path = validation_dir + \"/\" + label\n",
    "    list_of_files = os.listdir(folder_path)\n",
    "    for index, file in enumerate(list_of_files):\n",
    "        file_path = folder_path + \"/\" + file\n",
    "        img = Image.open(file_path)\n",
    "        img_resize = img.resize((150,150))\n",
    "        np_image = np.array(img_resize)\n",
    "        np_image = np_image.reshape(1,150,150,3) * 1./255\n",
    "        id_predict = np.argmax(model.predict(np_image))\n",
    "        confidence = int(round(np.max(model.predict(np_image)) * 100))\n",
    "        prediction = list_of_labels[id_predict]\n",
    "        os.rename(file_path,folder_path + \"/\" + str(index) + \"_\" + prediction + \"_\" + str(confidence) + \".JPG\")"
   ]
  },
  {
   "cell_type": "code",
   "execution_count": 23,
   "metadata": {},
   "outputs": [],
   "source": [
    "# Make this more efficient. Let's rename the file to the name of prediction\n",
    "for label in list_of_labels:\n",
    "    folder_path = train_dir + \"/\" + label\n",
    "    list_of_files = os.listdir(folder_path)\n",
    "    for index, file in enumerate(list_of_files):\n",
    "        file_path = folder_path + \"/\" + file\n",
    "        img = Image.open(file_path)\n",
    "        img_resize = img.resize((150,150))\n",
    "        np_image = np.array(img_resize)\n",
    "        np_image = np_image.reshape(1,150,150,3) * 1./255\n",
    "        id_predict = np.argmax(model.predict(np_image))\n",
    "        confidence = int(round(np.max(model.predict(np_image)) * 100))\n",
    "        prediction = list_of_labels[id_predict]\n",
    "        os.rename(file_path,folder_path + \"/\" + str(index) + \"_\" + prediction + \"_\" + str(confidence) + \".JPG\")"
   ]
  },
  {
   "cell_type": "code",
   "execution_count": null,
   "metadata": {},
   "outputs": [],
   "source": []
  }
 ],
 "metadata": {
  "accelerator": "GPU",
  "colab": {
   "collapsed_sections": [
    "jTEzoMx6CasV"
   ],
   "name": "image_classification_inceptionV3_Flowers.ipynb",
   "provenance": [],
   "version": "0.3.2"
  },
  "kernelspec": {
   "display_name": "Python 2",
   "language": "python",
   "name": "python2"
  },
  "language_info": {
   "codemirror_mode": {
    "name": "ipython",
    "version": 2
   },
   "file_extension": ".py",
   "mimetype": "text/x-python",
   "name": "python",
   "nbconvert_exporter": "python",
   "pygments_lexer": "ipython2",
   "version": "2.7.13"
  }
 },
 "nbformat": 4,
 "nbformat_minor": 1
}
